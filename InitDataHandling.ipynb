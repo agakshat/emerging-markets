{
 "cells": [
  {
   "cell_type": "code",
   "execution_count": 1,
   "metadata": {},
   "outputs": [],
   "source": [
    "import numpy as np\n",
    "import seaborn as sns\n",
    "import pandas as pd\n",
    "import matplotlib.pyplot as plt\n",
    "import openpyxl\n",
    "import scipy"
   ]
  },
  {
   "cell_type": "code",
   "execution_count": 2,
   "metadata": {},
   "outputs": [],
   "source": [
    "pwt = openpyxl.load_workbook('data/pwt90.xlsx')\n",
    "polity = openpyxl.load_workbook('data/Polity4TimeSeries.xlsx')"
   ]
  },
  {
   "cell_type": "code",
   "execution_count": 3,
   "metadata": {},
   "outputs": [],
   "source": [
    "polity_data = polity['p4v2017']\n",
    "polity_arr = []\n",
    "for row in polity_data:\n",
    "    row_data = []\n",
    "    for cell in row:\n",
    "        row_data.append(cell.value)\n",
    "    polity_arr.append(row_data)\n",
    "polity_arr = np.array(polity_arr)"
   ]
  },
  {
   "cell_type": "code",
   "execution_count": 4,
   "metadata": {},
   "outputs": [],
   "source": [
    "pwt_data = pwt['Data']\n",
    "pwt_arr = []\n",
    "for row in pwt_data:\n",
    "    row_data = []\n",
    "    for cell in row:\n",
    "        row_data.append(cell.value)\n",
    "    pwt_arr.append(row_data)\n",
    "pwt_arr = np.array(pwt_arr)"
   ]
  },
  {
   "cell_type": "code",
   "execution_count": 5,
   "metadata": {},
   "outputs": [],
   "source": [
    "final_arr = []\n",
    "headers = ['country','year','rgdpo','pop','rgdppc','flag','democ','autoc','polity2','regtrans']\n",
    "final_arr.append(headers)\n",
    "for row in pwt_arr[1:,:]:\n",
    "    if row[14] is not None:\n",
    "        country = row[1]\n",
    "        year = row[3]\n",
    "        polidx = np.nonzero(np.logical_and(polity_arr[:,3]==country,polity_arr[:,4]==year))[0]\n",
    "        if polidx.shape[0] != 0:\n",
    "            data_arr = [country,year,row[5],row[6],row[5]/row[6],polity_arr[polidx,5][0],polity_arr[polidx,7][0],polity_arr[polidx,8][0],polity_arr[polidx,10][0],polity_arr[polidx,35][0]]\n",
    "            final_arr.append(data_arr)\n",
    "final_arr = np.array(final_arr)"
   ]
  },
  {
   "cell_type": "code",
   "execution_count": 6,
   "metadata": {},
   "outputs": [],
   "source": [
    "final_arr2 = []\n",
    "headers = ['country','year','ck','pop','ckpc','flag','democ','autoc','polity2','regtrans']\n",
    "final_arr2.append(headers)\n",
    "for row in pwt_arr[1:,:]:\n",
    "    if row[14] is not None:\n",
    "        country = row[1]\n",
    "        year = row[3]\n",
    "        polidx = np.nonzero(np.logical_and(polity_arr[:,3]==country,polity_arr[:,4]==year))[0]\n",
    "        if polidx.shape[0] != 0:\n",
    "            data_arr = [country,year,row[14],row[6],row[14]/row[6],polity_arr[polidx,5][0],polity_arr[polidx,7][0],polity_arr[polidx,8][0],polity_arr[polidx,10][0],polity_arr[polidx,35][0]]\n",
    "            final_arr2.append(data_arr)\n",
    "final_arr2 = np.array(final_arr2)"
   ]
  },
  {
   "cell_type": "code",
   "execution_count": 7,
   "metadata": {},
   "outputs": [],
   "source": [
    "np.save('data/polity_arr',polity_arr)\n",
    "np.save('data/pwt_arr',pwt_arr)\n",
    "np.save('data/CombinedData_withGDP',final_arr)\n",
    "np.save('data/CombinedData_withCapitalStock',final_arr2)\n",
    "np.savetxt(\"data/CombinedData_withGDP.csv\",final_arr,delimiter=\",\",fmt='%s')\n",
    "np.savetxt(\"data/CombinedData_withCapitalStock.csv\",final_arr2,delimiter=\",\",fmt='%s')"
   ]
  }
 ],
 "metadata": {
  "kernelspec": {
   "display_name": "jupyter3_Python_3",
   "language": "python",
   "name": "jupyter3_python_3"
  },
  "language_info": {
   "codemirror_mode": {
    "name": "ipython",
    "version": 3
   },
   "file_extension": ".py",
   "mimetype": "text/x-python",
   "name": "python",
   "nbconvert_exporter": "python",
   "pygments_lexer": "ipython3",
   "version": "3.5.2"
  }
 },
 "nbformat": 4,
 "nbformat_minor": 2
}
